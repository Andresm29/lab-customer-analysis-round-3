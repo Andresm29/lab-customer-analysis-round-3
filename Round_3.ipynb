{
 "cells": [
  {
   "cell_type": "markdown",
   "id": "456a1ced",
   "metadata": {},
   "source": [
    "# Lab | Customer Analysis Round 3"
   ]
  },
  {
   "cell_type": "code",
   "execution_count": 8,
   "id": "adac66cc",
   "metadata": {},
   "outputs": [],
   "source": [
    "#Libraries\n",
    "import pandas as pd\n",
    "import matplotlib.pyplot as plt\n",
    "import seaborn as sns"
   ]
  },
  {
   "cell_type": "code",
   "execution_count": 26,
   "id": "6330a981",
   "metadata": {},
   "outputs": [],
   "source": [
    "df = pd.read_csv('marketing_customer_analysis.csv')"
   ]
  },
  {
   "cell_type": "markdown",
   "id": "5783d62e",
   "metadata": {},
   "source": [
    "1. Show the dataframe shape."
   ]
  },
  {
   "cell_type": "code",
   "execution_count": 27,
   "id": "bc5bf7de",
   "metadata": {},
   "outputs": [
    {
     "name": "stdout",
     "output_type": "stream",
     "text": [
      "(10910, 26)\n"
     ]
    }
   ],
   "source": [
    "print(df.shape)"
   ]
  },
  {
   "cell_type": "markdown",
   "id": "1508db09",
   "metadata": {},
   "source": [
    "2. Standardize header names."
   ]
  },
  {
   "cell_type": "code",
   "execution_count": 29,
   "id": "09730574",
   "metadata": {},
   "outputs": [
    {
     "data": {
      "text/plain": [
       "Index(['unnamed:_0', 'customer', 'state', 'customer_lifetime_value',\n",
       "       'response', 'coverage', 'education', 'effective_to_date',\n",
       "       'employmentstatus', 'gender', 'income', 'location_code',\n",
       "       'marital_status', 'monthly_premium_auto', 'months_since_last_claim',\n",
       "       'months_since_policy_inception', 'number_of_open_complaints',\n",
       "       'number_of_policies', 'policy_type', 'policy', 'renew_offer_type',\n",
       "       'sales_channel', 'total_claim_amount', 'vehicle_class', 'vehicle_size',\n",
       "       'vehicle_type'],\n",
       "      dtype='object')"
      ]
     },
     "execution_count": 29,
     "metadata": {},
     "output_type": "execute_result"
    }
   ],
   "source": [
    "df.columns = df.columns.str.lower().str.replace(' ', '_')\n",
    "df.columns"
   ]
  },
  {
   "cell_type": "markdown",
   "id": "0870036f",
   "metadata": {},
   "source": [
    "3. Which columns are numerical?"
   ]
  },
  {
   "cell_type": "code",
   "execution_count": 30,
   "id": "ec67a3de",
   "metadata": {},
   "outputs": [
    {
     "name": "stdout",
     "output_type": "stream",
     "text": [
      "Index(['unnamed:_0', 'customer_lifetime_value', 'income',\n",
      "       'monthly_premium_auto', 'months_since_last_claim',\n",
      "       'months_since_policy_inception', 'number_of_open_complaints',\n",
      "       'number_of_policies', 'total_claim_amount',\n",
      "       'months_since_last_claim_month', 'months_since_policy_inception_month'],\n",
      "      dtype='object')\n"
     ]
    }
   ],
   "source": [
    "numerical_columns = data.select_dtypes(include=['int64', 'float64']).columns\n",
    "print(numerical_columns)"
   ]
  },
  {
   "cell_type": "markdown",
   "id": "53a8b0d2",
   "metadata": {},
   "source": [
    "4. Which columns are categorical?"
   ]
  },
  {
   "cell_type": "code",
   "execution_count": 31,
   "id": "c52ba2c8",
   "metadata": {},
   "outputs": [
    {
     "name": "stdout",
     "output_type": "stream",
     "text": [
      "Index(['customer', 'state', 'response', 'coverage', 'education',\n",
      "       'effective_to_date', 'employmentstatus', 'gender', 'location_code',\n",
      "       'marital_status', 'policy_type', 'policy', 'renew_offer_type',\n",
      "       'sales_channel', 'vehicle_class', 'vehicle_size', 'vehicle_type'],\n",
      "      dtype='object')\n"
     ]
    }
   ],
   "source": [
    "categorical_columns = data.select_dtypes(include=['object']).columns\n",
    "print(categorical_columns)"
   ]
  },
  {
   "cell_type": "markdown",
   "id": "39b534ef",
   "metadata": {},
   "source": [
    "5. Check and deal with NaN values."
   ]
  },
  {
   "cell_type": "code",
   "execution_count": 32,
   "id": "0d1059d8",
   "metadata": {
    "scrolled": true
   },
   "outputs": [
    {
     "name": "stdout",
     "output_type": "stream",
     "text": [
      "unnamed:_0                          0\n",
      "customer                            0\n",
      "state                             631\n",
      "customer_lifetime_value             0\n",
      "response                          631\n",
      "coverage                            0\n",
      "education                           0\n",
      "effective_to_date                   0\n",
      "employmentstatus                    0\n",
      "gender                              0\n",
      "income                              0\n",
      "location_code                       0\n",
      "marital_status                      0\n",
      "monthly_premium_auto                0\n",
      "months_since_last_claim           633\n",
      "months_since_policy_inception       0\n",
      "number_of_open_complaints         633\n",
      "number_of_policies                  0\n",
      "policy_type                         0\n",
      "policy                              0\n",
      "renew_offer_type                    0\n",
      "sales_channel                       0\n",
      "total_claim_amount                  0\n",
      "vehicle_class                     622\n",
      "vehicle_size                      622\n",
      "vehicle_type                     5482\n",
      "dtype: int64\n"
     ]
    }
   ],
   "source": [
    "print(df.isna().sum())"
   ]
  },
  {
   "cell_type": "markdown",
   "id": "0ec49022",
   "metadata": {},
   "source": [
    "6. Datetime format - Extract the months from the dataset and store in a separate column. Then filter the data to show only the information for the first quarter, ie. January, February and March. Hint: If data from March does not exist, consider only January and February."
   ]
  },
  {
   "cell_type": "code",
   "execution_count": 33,
   "id": "9e6876cb",
   "metadata": {
    "scrolled": true
   },
   "outputs": [
    {
     "name": "stdout",
     "output_type": "stream",
     "text": [
      "       unnamed:_0 customer       state  customer_lifetime_value response  \\\n",
      "0               0  DK49336     Arizona              4809.216960       No   \n",
      "1               1  KX64629  California              2228.525238       No   \n",
      "2               2  LZ68649  Washington             14947.917300       No   \n",
      "3               3  XL78013      Oregon             22332.439460      Yes   \n",
      "4               4  QA50777      Oregon              9025.067525       No   \n",
      "...           ...      ...         ...                      ...      ...   \n",
      "10905       10905  FE99816      Nevada             15563.369440       No   \n",
      "10906       10906  KX53892      Oregon              5259.444853       No   \n",
      "10907       10907  TL39050     Arizona             23893.304100       No   \n",
      "10908       10908  WA60547  California             11971.977650       No   \n",
      "10909       10909  IV32877         NaN              6857.519928      NaN   \n",
      "\n",
      "       coverage education effective_to_date employmentstatus gender  ...  \\\n",
      "0         Basic   College           2/18/11         Employed      M  ...   \n",
      "1         Basic   College           1/18/11       Unemployed      F  ...   \n",
      "2         Basic  Bachelor           2/10/11         Employed      M  ...   \n",
      "3      Extended   College           1/11/11         Employed      M  ...   \n",
      "4       Premium  Bachelor           1/17/11    Medical Leave      F  ...   \n",
      "...         ...       ...               ...              ...    ...  ...   \n",
      "10905   Premium  Bachelor           1/19/11       Unemployed      F  ...   \n",
      "10906     Basic   College            1/6/11         Employed      F  ...   \n",
      "10907  Extended  Bachelor            2/6/11         Employed      F  ...   \n",
      "10908   Premium   College           2/13/11         Employed      F  ...   \n",
      "10909     Basic  Bachelor            1/8/11       Unemployed      M  ...   \n",
      "\n",
      "             policy renew_offer_type sales_channel  total_claim_amount  \\\n",
      "0      Corporate L3           Offer3         Agent          292.800000   \n",
      "1       Personal L3           Offer4   Call Center          744.924331   \n",
      "2       Personal L3           Offer3   Call Center          480.000000   \n",
      "3      Corporate L3           Offer2        Branch          484.013411   \n",
      "4       Personal L2           Offer1        Branch          707.925645   \n",
      "...             ...              ...           ...                 ...   \n",
      "10905   Personal L1           Offer3           Web         1214.400000   \n",
      "10906   Personal L3           Offer2        Branch          273.018929   \n",
      "10907  Corporate L3           Offer1           Web          381.306996   \n",
      "10908   Personal L1           Offer1        Branch          618.288849   \n",
      "10909   Personal L1           Offer4           Web         1021.719397   \n",
      "\n",
      "       vehicle_class  vehicle_size  vehicle_type  \\\n",
      "0      Four-Door Car       Medsize           NaN   \n",
      "1      Four-Door Car       Medsize           NaN   \n",
      "2                SUV       Medsize             A   \n",
      "3      Four-Door Car       Medsize             A   \n",
      "4      Four-Door Car       Medsize           NaN   \n",
      "...              ...           ...           ...   \n",
      "10905     Luxury Car       Medsize             A   \n",
      "10906  Four-Door Car       Medsize             A   \n",
      "10907     Luxury SUV       Medsize           NaN   \n",
      "10908            SUV       Medsize             A   \n",
      "10909            SUV       Medsize           NaN   \n",
      "\n",
      "       months_since_last_claim_month months_since_policy_inception_month month  \n",
      "0                                1.0                                   1   1.0  \n",
      "1                                1.0                                   1   1.0  \n",
      "2                                1.0                                   1   1.0  \n",
      "3                                1.0                                   1   1.0  \n",
      "4                                NaN                                   1   1.0  \n",
      "...                              ...                                 ...   ...  \n",
      "10905                            NaN                                   1   1.0  \n",
      "10906                            1.0                                   1   1.0  \n",
      "10907                            1.0                                   1   1.0  \n",
      "10908                            1.0                                   1   1.0  \n",
      "10909                            1.0                                   1   1.0  \n",
      "\n",
      "[10910 rows x 29 columns]\n"
     ]
    }
   ],
   "source": [
    "date_cols = ['months_since_last_claim', 'months_since_policy_inception']\n",
    "for col in date_cols:\n",
    "    df[f'{col}_month'] = pd.to_datetime(df[col]).dt.month\n",
    "\n",
    "df['month'] = df[[f'{col}_month' for col in date_cols]].max(axis=1)\n",
    "q1_df = df[(df['month'] >= 1) & (df['month'] <= 3)]\n",
    "\n",
    "print(q1_df)"
   ]
  },
  {
   "cell_type": "markdown",
   "id": "820796db",
   "metadata": {},
   "source": [
    "# Round 3"
   ]
  },
  {
   "cell_type": "markdown",
   "id": "14d6d1b6",
   "metadata": {},
   "source": [
    "1. Show DataFrame info."
   ]
  },
  {
   "cell_type": "code",
   "execution_count": 34,
   "id": "2620867c",
   "metadata": {},
   "outputs": [
    {
     "name": "stdout",
     "output_type": "stream",
     "text": [
      "<class 'pandas.core.frame.DataFrame'>\n",
      "RangeIndex: 10910 entries, 0 to 10909\n",
      "Data columns (total 29 columns):\n",
      " #   Column                               Non-Null Count  Dtype  \n",
      "---  ------                               --------------  -----  \n",
      " 0   unnamed:_0                           10910 non-null  int64  \n",
      " 1   customer                             10910 non-null  object \n",
      " 2   state                                10279 non-null  object \n",
      " 3   customer_lifetime_value              10910 non-null  float64\n",
      " 4   response                             10279 non-null  object \n",
      " 5   coverage                             10910 non-null  object \n",
      " 6   education                            10910 non-null  object \n",
      " 7   effective_to_date                    10910 non-null  object \n",
      " 8   employmentstatus                     10910 non-null  object \n",
      " 9   gender                               10910 non-null  object \n",
      " 10  income                               10910 non-null  int64  \n",
      " 11  location_code                        10910 non-null  object \n",
      " 12  marital_status                       10910 non-null  object \n",
      " 13  monthly_premium_auto                 10910 non-null  int64  \n",
      " 14  months_since_last_claim              10277 non-null  float64\n",
      " 15  months_since_policy_inception        10910 non-null  int64  \n",
      " 16  number_of_open_complaints            10277 non-null  float64\n",
      " 17  number_of_policies                   10910 non-null  int64  \n",
      " 18  policy_type                          10910 non-null  object \n",
      " 19  policy                               10910 non-null  object \n",
      " 20  renew_offer_type                     10910 non-null  object \n",
      " 21  sales_channel                        10910 non-null  object \n",
      " 22  total_claim_amount                   10910 non-null  float64\n",
      " 23  vehicle_class                        10288 non-null  object \n",
      " 24  vehicle_size                         10288 non-null  object \n",
      " 25  vehicle_type                         5428 non-null   object \n",
      " 26  months_since_last_claim_month        10277 non-null  float64\n",
      " 27  months_since_policy_inception_month  10910 non-null  int64  \n",
      " 28  month                                10910 non-null  float64\n",
      "dtypes: float64(6), int64(6), object(17)\n",
      "memory usage: 2.4+ MB\n"
     ]
    }
   ],
   "source": [
    "df.info()"
   ]
  },
  {
   "cell_type": "markdown",
   "id": "a5fafe4b",
   "metadata": {},
   "source": [
    "2. Describe DataFrame."
   ]
  },
  {
   "cell_type": "code",
   "execution_count": 35,
   "id": "cf7fecb4",
   "metadata": {},
   "outputs": [
    {
     "data": {
      "text/html": [
       "<div>\n",
       "<style scoped>\n",
       "    .dataframe tbody tr th:only-of-type {\n",
       "        vertical-align: middle;\n",
       "    }\n",
       "\n",
       "    .dataframe tbody tr th {\n",
       "        vertical-align: top;\n",
       "    }\n",
       "\n",
       "    .dataframe thead th {\n",
       "        text-align: right;\n",
       "    }\n",
       "</style>\n",
       "<table border=\"1\" class=\"dataframe\">\n",
       "  <thead>\n",
       "    <tr style=\"text-align: right;\">\n",
       "      <th></th>\n",
       "      <th>unnamed:_0</th>\n",
       "      <th>customer_lifetime_value</th>\n",
       "      <th>income</th>\n",
       "      <th>monthly_premium_auto</th>\n",
       "      <th>months_since_last_claim</th>\n",
       "      <th>months_since_policy_inception</th>\n",
       "      <th>number_of_open_complaints</th>\n",
       "      <th>number_of_policies</th>\n",
       "      <th>total_claim_amount</th>\n",
       "      <th>months_since_last_claim_month</th>\n",
       "      <th>months_since_policy_inception_month</th>\n",
       "      <th>month</th>\n",
       "    </tr>\n",
       "  </thead>\n",
       "  <tbody>\n",
       "    <tr>\n",
       "      <th>count</th>\n",
       "      <td>10910.000000</td>\n",
       "      <td>10910.000000</td>\n",
       "      <td>10910.000000</td>\n",
       "      <td>10910.000000</td>\n",
       "      <td>10277.000000</td>\n",
       "      <td>10910.000000</td>\n",
       "      <td>10277.000000</td>\n",
       "      <td>10910.000000</td>\n",
       "      <td>10910.000000</td>\n",
       "      <td>10277.0</td>\n",
       "      <td>10910.0</td>\n",
       "      <td>10910.0</td>\n",
       "    </tr>\n",
       "    <tr>\n",
       "      <th>mean</th>\n",
       "      <td>5454.500000</td>\n",
       "      <td>8018.241094</td>\n",
       "      <td>37536.284785</td>\n",
       "      <td>93.196059</td>\n",
       "      <td>15.149071</td>\n",
       "      <td>48.091934</td>\n",
       "      <td>0.384256</td>\n",
       "      <td>2.979193</td>\n",
       "      <td>434.888330</td>\n",
       "      <td>1.0</td>\n",
       "      <td>1.0</td>\n",
       "      <td>1.0</td>\n",
       "    </tr>\n",
       "    <tr>\n",
       "      <th>std</th>\n",
       "      <td>3149.590053</td>\n",
       "      <td>6885.081434</td>\n",
       "      <td>30359.195670</td>\n",
       "      <td>34.442532</td>\n",
       "      <td>10.080349</td>\n",
       "      <td>27.940675</td>\n",
       "      <td>0.912457</td>\n",
       "      <td>2.399359</td>\n",
       "      <td>292.180556</td>\n",
       "      <td>0.0</td>\n",
       "      <td>0.0</td>\n",
       "      <td>0.0</td>\n",
       "    </tr>\n",
       "    <tr>\n",
       "      <th>min</th>\n",
       "      <td>0.000000</td>\n",
       "      <td>1898.007675</td>\n",
       "      <td>0.000000</td>\n",
       "      <td>61.000000</td>\n",
       "      <td>0.000000</td>\n",
       "      <td>0.000000</td>\n",
       "      <td>0.000000</td>\n",
       "      <td>1.000000</td>\n",
       "      <td>0.099007</td>\n",
       "      <td>1.0</td>\n",
       "      <td>1.0</td>\n",
       "      <td>1.0</td>\n",
       "    </tr>\n",
       "    <tr>\n",
       "      <th>25%</th>\n",
       "      <td>2727.250000</td>\n",
       "      <td>4014.453113</td>\n",
       "      <td>0.000000</td>\n",
       "      <td>68.000000</td>\n",
       "      <td>6.000000</td>\n",
       "      <td>24.000000</td>\n",
       "      <td>0.000000</td>\n",
       "      <td>1.000000</td>\n",
       "      <td>271.082527</td>\n",
       "      <td>1.0</td>\n",
       "      <td>1.0</td>\n",
       "      <td>1.0</td>\n",
       "    </tr>\n",
       "    <tr>\n",
       "      <th>50%</th>\n",
       "      <td>5454.500000</td>\n",
       "      <td>5771.147235</td>\n",
       "      <td>33813.500000</td>\n",
       "      <td>83.000000</td>\n",
       "      <td>14.000000</td>\n",
       "      <td>48.000000</td>\n",
       "      <td>0.000000</td>\n",
       "      <td>2.000000</td>\n",
       "      <td>382.564630</td>\n",
       "      <td>1.0</td>\n",
       "      <td>1.0</td>\n",
       "      <td>1.0</td>\n",
       "    </tr>\n",
       "    <tr>\n",
       "      <th>75%</th>\n",
       "      <td>8181.750000</td>\n",
       "      <td>8992.779137</td>\n",
       "      <td>62250.750000</td>\n",
       "      <td>109.000000</td>\n",
       "      <td>23.000000</td>\n",
       "      <td>71.000000</td>\n",
       "      <td>0.000000</td>\n",
       "      <td>4.000000</td>\n",
       "      <td>547.200000</td>\n",
       "      <td>1.0</td>\n",
       "      <td>1.0</td>\n",
       "      <td>1.0</td>\n",
       "    </tr>\n",
       "    <tr>\n",
       "      <th>max</th>\n",
       "      <td>10909.000000</td>\n",
       "      <td>83325.381190</td>\n",
       "      <td>99981.000000</td>\n",
       "      <td>298.000000</td>\n",
       "      <td>35.000000</td>\n",
       "      <td>99.000000</td>\n",
       "      <td>5.000000</td>\n",
       "      <td>9.000000</td>\n",
       "      <td>2893.239678</td>\n",
       "      <td>1.0</td>\n",
       "      <td>1.0</td>\n",
       "      <td>1.0</td>\n",
       "    </tr>\n",
       "  </tbody>\n",
       "</table>\n",
       "</div>"
      ],
      "text/plain": [
       "         unnamed:_0  customer_lifetime_value        income  \\\n",
       "count  10910.000000             10910.000000  10910.000000   \n",
       "mean    5454.500000              8018.241094  37536.284785   \n",
       "std     3149.590053              6885.081434  30359.195670   \n",
       "min        0.000000              1898.007675      0.000000   \n",
       "25%     2727.250000              4014.453113      0.000000   \n",
       "50%     5454.500000              5771.147235  33813.500000   \n",
       "75%     8181.750000              8992.779137  62250.750000   \n",
       "max    10909.000000             83325.381190  99981.000000   \n",
       "\n",
       "       monthly_premium_auto  months_since_last_claim  \\\n",
       "count          10910.000000             10277.000000   \n",
       "mean              93.196059                15.149071   \n",
       "std               34.442532                10.080349   \n",
       "min               61.000000                 0.000000   \n",
       "25%               68.000000                 6.000000   \n",
       "50%               83.000000                14.000000   \n",
       "75%              109.000000                23.000000   \n",
       "max              298.000000                35.000000   \n",
       "\n",
       "       months_since_policy_inception  number_of_open_complaints  \\\n",
       "count                   10910.000000               10277.000000   \n",
       "mean                       48.091934                   0.384256   \n",
       "std                        27.940675                   0.912457   \n",
       "min                         0.000000                   0.000000   \n",
       "25%                        24.000000                   0.000000   \n",
       "50%                        48.000000                   0.000000   \n",
       "75%                        71.000000                   0.000000   \n",
       "max                        99.000000                   5.000000   \n",
       "\n",
       "       number_of_policies  total_claim_amount  months_since_last_claim_month  \\\n",
       "count        10910.000000        10910.000000                        10277.0   \n",
       "mean             2.979193          434.888330                            1.0   \n",
       "std              2.399359          292.180556                            0.0   \n",
       "min              1.000000            0.099007                            1.0   \n",
       "25%              1.000000          271.082527                            1.0   \n",
       "50%              2.000000          382.564630                            1.0   \n",
       "75%              4.000000          547.200000                            1.0   \n",
       "max              9.000000         2893.239678                            1.0   \n",
       "\n",
       "       months_since_policy_inception_month    month  \n",
       "count                              10910.0  10910.0  \n",
       "mean                                   1.0      1.0  \n",
       "std                                    0.0      0.0  \n",
       "min                                    1.0      1.0  \n",
       "25%                                    1.0      1.0  \n",
       "50%                                    1.0      1.0  \n",
       "75%                                    1.0      1.0  \n",
       "max                                    1.0      1.0  "
      ]
     },
     "execution_count": 35,
     "metadata": {},
     "output_type": "execute_result"
    }
   ],
   "source": [
    "df.describe()"
   ]
  },
  {
   "cell_type": "markdown",
   "id": "11048803",
   "metadata": {},
   "source": [
    "3. Show a plot of the total number of responses."
   ]
  },
  {
   "cell_type": "code",
   "execution_count": 36,
   "id": "7662bd2b",
   "metadata": {},
   "outputs": [
    {
     "data": {
      "image/png": "[encoded data removed]",
      "text/plain": [
       "<Figure size 640x480 with 1 Axes>"
      ]
     },
     "metadata": {},
     "output_type": "display_data"
    }
   ],
   "source": [
    "sns.countplot(x='response', data=df)\n",
    "plt.title('Total number of responses')\n",
    "plt.show()"
   ]
  },
  {
   "cell_type": "markdown",
   "id": "3c6e4396",
   "metadata": {},
   "source": [
    "4.Show a plot of the response rate by the sales channel."
   ]
  },
  {
   "cell_type": "code",
   "execution_count": 37,
   "id": "1f2daab1",
   "metadata": {},
   "outputs": [],
   "source": [
    "df['response_numeric'] = df['response'].map({'Yes': 1, 'No': 0})\n",
    "response_rate = df.groupby('sales_channel')['response_numeric'].mean().reset_index()"
   ]
  },
  {
   "cell_type": "code",
   "execution_count": 38,
   "id": "9d4a64f2",
   "metadata": {
    "scrolled": true
   },
   "outputs": [
    {
     "data": {
      "image/png": "[encoded data removed]",
      "text/plain": [
       "<Figure size 640x480 with 1 Axes>"
      ]
     },
     "metadata": {},
     "output_type": "display_data"
    }
   ],
   "source": [
    "sns.barplot(x='sales_channel', y='response_numeric', data=response_rate)\n",
    "plt.title('Response rate by sales channel')\n",
    "plt.show()"
   ]
  },
  {
   "cell_type": "markdown",
   "id": "e0c59051",
   "metadata": {},
   "source": [
    "5. Show a plot of the response rate by the total claim amount."
   ]
  },
  {
   "cell_type": "code",
   "execution_count": 44,
   "id": "0498a7ec",
   "metadata": {
    "scrolled": true
   },
   "outputs": [
    {
     "data": {
      "image/png": "[encoded data removed]",
      "text/plain": [
       "<Figure size 640x480 with 1 Axes>"
      ]
     },
     "metadata": {},
     "output_type": "display_data"
    }
   ],
   "source": [
    "sns.boxplot(x='response', y='total_claim_amount', data=df)\n",
    "plt.title('Response rate by the total claim amount')\n",
    "plt.show()"
   ]
  },
  {
   "cell_type": "markdown",
   "id": "aa267233",
   "metadata": {},
   "source": [
    "6. Show a plot of the response rate by income."
   ]
  },
  {
   "cell_type": "code",
   "execution_count": 42,
   "id": "40baa3f6",
   "metadata": {},
   "outputs": [
    {
     "data": {
      "image/png": "[encoded data removed]",
      "text/plain": [
       "<Figure size 640x480 with 1 Axes>"
      ]
     },
     "metadata": {},
     "output_type": "display_data"
    }
   ],
   "source": [
    "sns.barplot(x='income', y='response_numeric', data=df)\n",
    "plt.title('Response rate by income')\n",
    "plt.show()"
   ]
  }
 ],
 "metadata": {
  "kernelspec": {
   "display_name": "Python 3 (ipykernel)",
   "language": "python",
   "name": "python3"
  },
  "language_info": {
   "codemirror_mode": {
    "name": "ipython",
    "version": 3
   },
   "file_extension": ".py",
   "mimetype": "text/x-python",
   "name": "python",
   "nbconvert_exporter": "python",
   "pygments_lexer": "ipython3",
   "version": "3.9.13"
  }
 },
 "nbformat": 4,
 "nbformat_minor": 5
}
